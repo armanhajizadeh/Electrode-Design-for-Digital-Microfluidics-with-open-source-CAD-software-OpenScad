{
  "nbformat": 4,
  "nbformat_minor": 0,
  "metadata": {
    "colab": {
      "provenance": []
    },
    "kernelspec": {
      "name": "python3",
      "display_name": "Python 3"
    },
    "language_info": {
      "name": "python"
    }
  },
  "cells": [
    {
      "cell_type": "code",
      "execution_count": 1,
      "metadata": {
        "colab": {
          "base_uri": "https://localhost:8080/",
          "height": 106
        },
        "id": "aGUAOqMnLdmX",
        "outputId": "d5831058-155b-411e-b716-2b5afbb91fbc"
      },
      "outputs": [
        {
          "output_type": "error",
          "ename": "SyntaxError",
          "evalue": "invalid syntax (<ipython-input-1-02fc9bbf4f72>, line 1)",
          "traceback": [
            "\u001b[0;36m  File \u001b[0;32m\"<ipython-input-1-02fc9bbf4f72>\"\u001b[0;36m, line \u001b[0;32m1\u001b[0m\n\u001b[0;31m    module aaa()\u001b[0m\n\u001b[0m           ^\u001b[0m\n\u001b[0;31mSyntaxError\u001b[0m\u001b[0;31m:\u001b[0m invalid syntax\n"
          ]
        }
      ],
      "source": [
        "module aaa()\n",
        "{\n",
        "// Triangle and gap dimensions\n",
        "triangle_size = 1;            // Side length of the equilateral triangle in mm\n",
        "initial_gap_increment = 0.005; // Initial gap increment value\n",
        "offset_y = sqrt(3) / 2;       // y-offset for mirrored triangles\n",
        "\n",
        "// Function to create an equilateral triangle\n",
        "module equilateral_triangle(side) {\n",
        "    polygon(points=[\n",
        "        [0, 0],\n",
        "        [side, 0],\n",
        "        [side / 2, side * sqrt(3) / 2]\n",
        "    ]);\n",
        "}\n",
        "\n",
        "// Extrude and create multiple rows of the pattern\n",
        "linear_extrude(height = 0.01) {\n",
        "    for (j = [0:4]) {  // Loop to create 2 rows\n",
        "        // Calculate gap and offset_x for the current row, doubling gap_increment with each row\n",
        "        gap_increment = initial_gap_increment * pow(2, j);\n",
        "        gap = 2 * gap_increment;               // Total gap between triangles\n",
        "        offset_x = 0.5 + gap_increment;        // Adjusted x-offset for mirrored triangles\n",
        "        row_gap = 2 * triangle_size * sqrt(3) / 2 ; // Row-to-row vertical spacing\n",
        "\n",
        "        translate([0, j * row_gap, 0]) {  // Shift each row downward by row_gap\n",
        "            union() {\n",
        "                // Original pattern of triangles\n",
        "                for (i = [0:4]) {\n",
        "                    translate([(triangle_size + gap) * i, 0, 0]) {\n",
        "                        equilateral_triangle(triangle_size);\n",
        "                    }\n",
        "                }\n",
        "\n",
        "                // Mirrored pattern with offset\n",
        "                translate([offset_x, offset_y, 0]) {\n",
        "                    mirror([0, 1, 0]) {\n",
        "                        for (i = [0:3]) {\n",
        "                            translate([(triangle_size + gap) * i, 0, 0]) {\n",
        "                                equilateral_triangle(triangle_size);\n",
        "                            }\n",
        "                        }\n",
        "                    }\n",
        "                }\n",
        "            }\n",
        "        }\n",
        "    }\n",
        "}\n",
        "\n",
        "}\n",
        "\n",
        "projection(cut = true) aaa();\n"
      ]
    }
  ]
}